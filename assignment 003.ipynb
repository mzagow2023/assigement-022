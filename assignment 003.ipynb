{
 "cells": [
  {
   "cell_type": "code",
   "execution_count": 4,
   "id": "ebbdbe02-4dcd-452b-af55-e619aa36b740",
   "metadata": {},
   "outputs": [
    {
     "name": "stdout",
     "output_type": "stream",
     "text": [
      "Let's play Rock, Paper, Scissors!\n"
     ]
    },
    {
     "name": "stdin",
     "output_type": "stream",
     "text": [
      "Choose rock, paper, or scissors:  rock\n"
     ]
    },
    {
     "name": "stdout",
     "output_type": "stream",
     "text": [
      "You chose: rock\n",
      "Computer chose: scissors\n",
      "You win!\n"
     ]
    }
   ],
   "source": [
    "# Definition of the options\n",
    "options = ['rock', 'paper', 'scissors']\n",
    "\n",
    "# introduction\n",
    "print(\"Let's play Rock, Paper, Scissors!\")\n",
    "\n",
    "# Player's choice\n",
    "player_choice = input(\"Choose rock, paper, or scissors: \").lower()\n",
    "\n",
    "# Check if the validation of player's choice\n",
    "if player_choice not in options:\n",
    "    print(\"Invalid choice!\")\n",
    "else:\n",
    "    # Get computer's choice\n",
    "    computer_choice = random.choice(options)\n",
    "\n",
    "    # Print choices\n",
    "    print(\"You chose:\", player_choice)\n",
    "    print(\"Computer chose:\", computer_choice)\n",
    "\n",
    "    # Determine the winner\n",
    "    if player_choice == computer_choice:\n",
    "        print(\"It's a equal!\")\n",
    "    elif player_choice == 'rock' and computer_choice == 'scissors':\n",
    "        print(\"You win!\")\n",
    "    elif player_choice == 'paper' and computer_choice == 'rock':\n",
    "        print(\"You win!\")\n",
    "    elif player_choice == 'scissors' and computer_choice == 'paper':\n",
    "        print(\"You win!\")\n",
    "    else:\n",
    "        print(\"Computer wins!\")"
   ]
  },
  {
   "cell_type": "code",
   "execution_count": null,
   "id": "520f34e8-a9cf-4a45-ba05-e2b954f81065",
   "metadata": {},
   "outputs": [],
   "source": []
  }
 ],
 "metadata": {
  "kernelspec": {
   "display_name": "Python 3 (ipykernel)",
   "language": "python",
   "name": "python3"
  },
  "language_info": {
   "codemirror_mode": {
    "name": "ipython",
    "version": 3
   },
   "file_extension": ".py",
   "mimetype": "text/x-python",
   "name": "python",
   "nbconvert_exporter": "python",
   "pygments_lexer": "ipython3",
   "version": "3.9.13"
  }
 },
 "nbformat": 4,
 "nbformat_minor": 5
}
